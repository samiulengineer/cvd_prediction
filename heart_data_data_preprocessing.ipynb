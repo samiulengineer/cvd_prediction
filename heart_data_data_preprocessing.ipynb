{
 "cells": [
  {
   "cell_type": "markdown",
   "metadata": {},
   "source": [
    "## **Heart Disease Prediction using Logistic Regression**\n",
    "\n",
    "Heart disease is a common disease specially for aged people. There are some certain factors which cause angiographic disease. There are two csv files in kaggle (training and test). As we all know, data prepocessing, cleaning, feature selection and aggregation is very crucial to design a perfect model. Thus, I will try to do data preprocessing step by step and then Logistic Model will be used to train the dataset. Afterthat, as test dataset does not have class label, I will fit the test into training dataset and put a label whether they have heart disease or not."
   ]
  },
  {
   "cell_type": "markdown",
   "metadata": {},
   "source": [
    "### **Importing Libraries**"
   ]
  },
  {
   "cell_type": "code",
   "execution_count": 1,
   "metadata": {},
   "outputs": [],
   "source": [
    "import pandas as pd\n",
    "import numpy as np\n",
    "import statsmodels.api as sm\n",
    "import scipy.stats as sci\n",
    "import matplotlib.pyplot as matplt\n",
    "import seaborn as sb\n",
    "from sklearn.metrics import confusion_matrix\n",
    "import matplotlib.mlab as matlab\n",
    "%matplotlib inline"
   ]
  },
  {
   "cell_type": "markdown",
   "metadata": {},
   "source": [
    "### **Loading Training Dataset**"
   ]
  },
  {
   "cell_type": "markdown",
   "metadata": {},
   "source": [
    "#### **Independent Variables**\n",
    "\n",
    "Column1: **age** as years <br>\n",
    "Column2: **sex** as 1 = male, 0 = female <br>\n",
    "Column3: **chest-pain type** as 1 = typical angina, 2 = atypical angina, 3 = non-anginal pain, 4 = asymptotic <br>\n",
    "Column4: **resting blood pressure** as mmHg (on hospital admission) <br>\n",
    "Column5: **serum cholestrol** as mg/dl <br>\n",
    "Column6: **fasting blood sugar** as (>120 mg/dl), 1 = true, 0 = false <br>\n",
    "Column7: **resting ECG** 0 = normal, 1 = having ST-T wave abnormality, 2 = left ventricular hyperthrophy <br>\n",
    "Column8: **max-heart rate achieved** as arbitrary value\n",
    "Column9: **exercise induced angina** as 1 = yes, 0 = no <br>\n",
    "Column10: **ST depression induced by exercise relative to rest** as arbitrary value <br>\n",
    "Column11: **peak exercise ST segment** as 1 = upsloping, 2 = flat, 3 = downsloping <br>\n",
    "Column12: **number of major vessels (0-3) colored by flourosopy** as 0-3 value <br>\n",
    "Column13: **thal** as 3 = normal, 6 = fixed defect, 7 = reversable defect <br>\n",
    "\n",
    "#### **Class Attributes**\n",
    "\n",
    "Column14: **heart disease status** 0 = absence, 1,2,3,4 = presence"
   ]
  },
  {
   "cell_type": "code",
   "execution_count": 2,
   "metadata": {},
   "outputs": [
    {
     "data": {
      "text/html": [
       "<div>\n",
       "<style scoped>\n",
       "    .dataframe tbody tr th:only-of-type {\n",
       "        vertical-align: middle;\n",
       "    }\n",
       "\n",
       "    .dataframe tbody tr th {\n",
       "        vertical-align: top;\n",
       "    }\n",
       "\n",
       "    .dataframe thead th {\n",
       "        text-align: right;\n",
       "    }\n",
       "</style>\n",
       "<table border=\"1\" class=\"dataframe\">\n",
       "  <thead>\n",
       "    <tr style=\"text-align: right;\">\n",
       "      <th></th>\n",
       "      <th>Column1</th>\n",
       "      <th>Column2</th>\n",
       "      <th>Column3</th>\n",
       "      <th>Column4</th>\n",
       "      <th>Column5</th>\n",
       "      <th>Column6</th>\n",
       "      <th>Column7</th>\n",
       "      <th>Column8</th>\n",
       "      <th>Column9</th>\n",
       "      <th>Column10</th>\n",
       "      <th>Column11</th>\n",
       "      <th>Column12</th>\n",
       "      <th>Column13</th>\n",
       "      <th>Column14</th>\n",
       "    </tr>\n",
       "  </thead>\n",
       "  <tbody>\n",
       "    <tr>\n",
       "      <th>0</th>\n",
       "      <td>54</td>\n",
       "      <td>1</td>\n",
       "      <td>4</td>\n",
       "      <td>125</td>\n",
       "      <td>216</td>\n",
       "      <td>0</td>\n",
       "      <td>0</td>\n",
       "      <td>140</td>\n",
       "      <td>0</td>\n",
       "      <td>0</td>\n",
       "      <td>?</td>\n",
       "      <td>?</td>\n",
       "      <td>?</td>\n",
       "      <td>1</td>\n",
       "    </tr>\n",
       "    <tr>\n",
       "      <th>1</th>\n",
       "      <td>55</td>\n",
       "      <td>1</td>\n",
       "      <td>4</td>\n",
       "      <td>158</td>\n",
       "      <td>217</td>\n",
       "      <td>0</td>\n",
       "      <td>0</td>\n",
       "      <td>110</td>\n",
       "      <td>1</td>\n",
       "      <td>2.5</td>\n",
       "      <td>2</td>\n",
       "      <td>?</td>\n",
       "      <td>?</td>\n",
       "      <td>1</td>\n",
       "    </tr>\n",
       "    <tr>\n",
       "      <th>2</th>\n",
       "      <td>54</td>\n",
       "      <td>0</td>\n",
       "      <td>3</td>\n",
       "      <td>135</td>\n",
       "      <td>304</td>\n",
       "      <td>1</td>\n",
       "      <td>0</td>\n",
       "      <td>170</td>\n",
       "      <td>0</td>\n",
       "      <td>0</td>\n",
       "      <td>1</td>\n",
       "      <td>0</td>\n",
       "      <td>3</td>\n",
       "      <td>0</td>\n",
       "    </tr>\n",
       "    <tr>\n",
       "      <th>3</th>\n",
       "      <td>48</td>\n",
       "      <td>0</td>\n",
       "      <td>3</td>\n",
       "      <td>120</td>\n",
       "      <td>195</td>\n",
       "      <td>0</td>\n",
       "      <td>0</td>\n",
       "      <td>125</td>\n",
       "      <td>0</td>\n",
       "      <td>0</td>\n",
       "      <td>?</td>\n",
       "      <td>?</td>\n",
       "      <td>?</td>\n",
       "      <td>0</td>\n",
       "    </tr>\n",
       "    <tr>\n",
       "      <th>4</th>\n",
       "      <td>50</td>\n",
       "      <td>1</td>\n",
       "      <td>4</td>\n",
       "      <td>120</td>\n",
       "      <td>0</td>\n",
       "      <td>0</td>\n",
       "      <td>1</td>\n",
       "      <td>156</td>\n",
       "      <td>1</td>\n",
       "      <td>0</td>\n",
       "      <td>1</td>\n",
       "      <td>?</td>\n",
       "      <td>6</td>\n",
       "      <td>3</td>\n",
       "    </tr>\n",
       "  </tbody>\n",
       "</table>\n",
       "</div>"
      ],
      "text/plain": [
       "   Column1  Column2  Column3 Column4 Column5 Column6 Column7 Column8 Column9  \\\n",
       "0       54        1        4     125     216       0       0     140       0   \n",
       "1       55        1        4     158     217       0       0     110       1   \n",
       "2       54        0        3     135     304       1       0     170       0   \n",
       "3       48        0        3     120     195       0       0     125       0   \n",
       "4       50        1        4     120       0       0       1     156       1   \n",
       "\n",
       "  Column10 Column11 Column12 Column13  Column14  \n",
       "0        0        ?        ?        ?         1  \n",
       "1      2.5        2        ?        ?         1  \n",
       "2        0        1        0        3         0  \n",
       "3        0        ?        ?        ?         0  \n",
       "4        0        1        ?        6         3  "
      ]
     },
     "execution_count": 2,
     "metadata": {},
     "output_type": "execute_result"
    }
   ],
   "source": [
    "heart_train = pd.read_csv(\"/home/samiulengineer/Desktop/sami/data/heart_train.csv\")\n",
    "heart_train.head()"
   ]
  },
  {
   "cell_type": "markdown",
   "metadata": {},
   "source": [
    "### **Checking Data Types**"
   ]
  },
  {
   "cell_type": "code",
   "execution_count": 3,
   "metadata": {},
   "outputs": [
    {
     "data": {
      "text/plain": [
       "Column1      int64\n",
       "Column2      int64\n",
       "Column3      int64\n",
       "Column4     object\n",
       "Column5     object\n",
       "Column6     object\n",
       "Column7     object\n",
       "Column8     object\n",
       "Column9     object\n",
       "Column10    object\n",
       "Column11    object\n",
       "Column12    object\n",
       "Column13    object\n",
       "Column14     int64\n",
       "dtype: object"
      ]
     },
     "execution_count": 3,
     "metadata": {},
     "output_type": "execute_result"
    }
   ],
   "source": [
    "heart_train.dtypes"
   ]
  },
  {
   "cell_type": "markdown",
   "metadata": {},
   "source": [
    "Column4 to Column13 have string values, basically '?' which can not be used machine learning model"
   ]
  },
  {
   "cell_type": "markdown",
   "metadata": {},
   "source": [
    "### **Changing Data Types**\n",
    "\n",
    "Change all data types and convert all '?' values to Nan values"
   ]
  },
  {
   "cell_type": "code",
   "execution_count": 4,
   "metadata": {},
   "outputs": [],
   "source": [
    "heart_train['Column4'] = pd.to_numeric(heart_train['Column4'], errors = 'coerce')\n",
    "heart_train['Column5'] = pd.to_numeric(heart_train['Column5'], errors = 'coerce')\n",
    "heart_train['Column6'] = pd.to_numeric(heart_train['Column6'], errors = 'coerce')\n",
    "heart_train['Column7'] = pd.to_numeric(heart_train['Column7'], errors = 'coerce')\n",
    "heart_train['Column8'] = pd.to_numeric(heart_train['Column8'], errors = 'coerce')\n",
    "heart_train['Column9'] = pd.to_numeric(heart_train['Column9'], errors = 'coerce')\n",
    "heart_train['Column10'] = pd.to_numeric(heart_train['Column10'], errors = 'coerce')\n",
    "heart_train['Column11'] = pd.to_numeric(heart_train['Column11'], errors = 'coerce')\n",
    "heart_train['Column12'] = pd.to_numeric(heart_train['Column12'], errors = 'coerce')\n",
    "heart_train['Column13'] = pd.to_numeric(heart_train['Column13'], errors = 'coerce')"
   ]
  },
  {
   "cell_type": "code",
   "execution_count": 5,
   "metadata": {},
   "outputs": [
    {
     "data": {
      "text/plain": [
       "Column1       int64\n",
       "Column2       int64\n",
       "Column3       int64\n",
       "Column4     float64\n",
       "Column5     float64\n",
       "Column6     float64\n",
       "Column7     float64\n",
       "Column8     float64\n",
       "Column9     float64\n",
       "Column10    float64\n",
       "Column11    float64\n",
       "Column12    float64\n",
       "Column13    float64\n",
       "Column14      int64\n",
       "dtype: object"
      ]
     },
     "execution_count": 5,
     "metadata": {},
     "output_type": "execute_result"
    }
   ],
   "source": [
    "heart_train.dtypes"
   ]
  },
  {
   "cell_type": "markdown",
   "metadata": {},
   "source": [
    "Now, here all datatypes have been changed from string to float."
   ]
  },
  {
   "cell_type": "code",
   "execution_count": 6,
   "metadata": {},
   "outputs": [
    {
     "data": {
      "text/html": [
       "<div>\n",
       "<style scoped>\n",
       "    .dataframe tbody tr th:only-of-type {\n",
       "        vertical-align: middle;\n",
       "    }\n",
       "\n",
       "    .dataframe tbody tr th {\n",
       "        vertical-align: top;\n",
       "    }\n",
       "\n",
       "    .dataframe thead th {\n",
       "        text-align: right;\n",
       "    }\n",
       "</style>\n",
       "<table border=\"1\" class=\"dataframe\">\n",
       "  <thead>\n",
       "    <tr style=\"text-align: right;\">\n",
       "      <th></th>\n",
       "      <th>Column1</th>\n",
       "      <th>Column2</th>\n",
       "      <th>Column3</th>\n",
       "      <th>Column4</th>\n",
       "      <th>Column5</th>\n",
       "      <th>Column6</th>\n",
       "      <th>Column7</th>\n",
       "      <th>Column8</th>\n",
       "      <th>Column9</th>\n",
       "      <th>Column10</th>\n",
       "      <th>Column11</th>\n",
       "      <th>Column12</th>\n",
       "      <th>Column13</th>\n",
       "      <th>Column14</th>\n",
       "    </tr>\n",
       "  </thead>\n",
       "  <tbody>\n",
       "    <tr>\n",
       "      <th>0</th>\n",
       "      <td>54</td>\n",
       "      <td>1</td>\n",
       "      <td>4</td>\n",
       "      <td>125.0</td>\n",
       "      <td>216.0</td>\n",
       "      <td>0.0</td>\n",
       "      <td>0.0</td>\n",
       "      <td>140.0</td>\n",
       "      <td>0.0</td>\n",
       "      <td>0.0</td>\n",
       "      <td>NaN</td>\n",
       "      <td>NaN</td>\n",
       "      <td>NaN</td>\n",
       "      <td>1</td>\n",
       "    </tr>\n",
       "    <tr>\n",
       "      <th>1</th>\n",
       "      <td>55</td>\n",
       "      <td>1</td>\n",
       "      <td>4</td>\n",
       "      <td>158.0</td>\n",
       "      <td>217.0</td>\n",
       "      <td>0.0</td>\n",
       "      <td>0.0</td>\n",
       "      <td>110.0</td>\n",
       "      <td>1.0</td>\n",
       "      <td>2.5</td>\n",
       "      <td>2.0</td>\n",
       "      <td>NaN</td>\n",
       "      <td>NaN</td>\n",
       "      <td>1</td>\n",
       "    </tr>\n",
       "    <tr>\n",
       "      <th>2</th>\n",
       "      <td>54</td>\n",
       "      <td>0</td>\n",
       "      <td>3</td>\n",
       "      <td>135.0</td>\n",
       "      <td>304.0</td>\n",
       "      <td>1.0</td>\n",
       "      <td>0.0</td>\n",
       "      <td>170.0</td>\n",
       "      <td>0.0</td>\n",
       "      <td>0.0</td>\n",
       "      <td>1.0</td>\n",
       "      <td>0.0</td>\n",
       "      <td>3.0</td>\n",
       "      <td>0</td>\n",
       "    </tr>\n",
       "    <tr>\n",
       "      <th>3</th>\n",
       "      <td>48</td>\n",
       "      <td>0</td>\n",
       "      <td>3</td>\n",
       "      <td>120.0</td>\n",
       "      <td>195.0</td>\n",
       "      <td>0.0</td>\n",
       "      <td>0.0</td>\n",
       "      <td>125.0</td>\n",
       "      <td>0.0</td>\n",
       "      <td>0.0</td>\n",
       "      <td>NaN</td>\n",
       "      <td>NaN</td>\n",
       "      <td>NaN</td>\n",
       "      <td>0</td>\n",
       "    </tr>\n",
       "    <tr>\n",
       "      <th>4</th>\n",
       "      <td>50</td>\n",
       "      <td>1</td>\n",
       "      <td>4</td>\n",
       "      <td>120.0</td>\n",
       "      <td>0.0</td>\n",
       "      <td>0.0</td>\n",
       "      <td>1.0</td>\n",
       "      <td>156.0</td>\n",
       "      <td>1.0</td>\n",
       "      <td>0.0</td>\n",
       "      <td>1.0</td>\n",
       "      <td>NaN</td>\n",
       "      <td>6.0</td>\n",
       "      <td>3</td>\n",
       "    </tr>\n",
       "  </tbody>\n",
       "</table>\n",
       "</div>"
      ],
      "text/plain": [
       "   Column1  Column2  Column3  Column4  Column5  Column6  Column7  Column8  \\\n",
       "0       54        1        4    125.0    216.0      0.0      0.0    140.0   \n",
       "1       55        1        4    158.0    217.0      0.0      0.0    110.0   \n",
       "2       54        0        3    135.0    304.0      1.0      0.0    170.0   \n",
       "3       48        0        3    120.0    195.0      0.0      0.0    125.0   \n",
       "4       50        1        4    120.0      0.0      0.0      1.0    156.0   \n",
       "\n",
       "   Column9  Column10  Column11  Column12  Column13  Column14  \n",
       "0      0.0       0.0       NaN       NaN       NaN         1  \n",
       "1      1.0       2.5       2.0       NaN       NaN         1  \n",
       "2      0.0       0.0       1.0       0.0       3.0         0  \n",
       "3      0.0       0.0       NaN       NaN       NaN         0  \n",
       "4      1.0       0.0       1.0       NaN       6.0         3  "
      ]
     },
     "execution_count": 6,
     "metadata": {},
     "output_type": "execute_result"
    }
   ],
   "source": [
    "heart_train.head()"
   ]
  },
  {
   "cell_type": "markdown",
   "metadata": {},
   "source": [
    "### **Total Instances**"
   ]
  },
  {
   "cell_type": "code",
   "execution_count": 7,
   "metadata": {},
   "outputs": [
    {
     "data": {
      "text/plain": [
       "779"
      ]
     },
     "execution_count": 7,
     "metadata": {},
     "output_type": "execute_result"
    }
   ],
   "source": [
    "len(heart_train.index)"
   ]
  },
  {
   "cell_type": "markdown",
   "metadata": {},
   "source": [
    "### **Changing Attributes Name**"
   ]
  },
  {
   "cell_type": "code",
   "execution_count": 8,
   "metadata": {},
   "outputs": [
    {
     "data": {
      "text/html": [
       "<div>\n",
       "<style scoped>\n",
       "    .dataframe tbody tr th:only-of-type {\n",
       "        vertical-align: middle;\n",
       "    }\n",
       "\n",
       "    .dataframe tbody tr th {\n",
       "        vertical-align: top;\n",
       "    }\n",
       "\n",
       "    .dataframe thead th {\n",
       "        text-align: right;\n",
       "    }\n",
       "</style>\n",
       "<table border=\"1\" class=\"dataframe\">\n",
       "  <thead>\n",
       "    <tr style=\"text-align: right;\">\n",
       "      <th></th>\n",
       "      <th>age</th>\n",
       "      <th>sex</th>\n",
       "      <th>chest_pain_type</th>\n",
       "      <th>resting_bp</th>\n",
       "      <th>ser_chol</th>\n",
       "      <th>fast_glucose</th>\n",
       "      <th>rest_ecg</th>\n",
       "      <th>heart_rate</th>\n",
       "      <th>exc_angina</th>\n",
       "      <th>depression</th>\n",
       "      <th>peak_exc</th>\n",
       "      <th>maj_vessels</th>\n",
       "      <th>thal</th>\n",
       "      <th>CVD</th>\n",
       "    </tr>\n",
       "  </thead>\n",
       "  <tbody>\n",
       "    <tr>\n",
       "      <th>0</th>\n",
       "      <td>54</td>\n",
       "      <td>1</td>\n",
       "      <td>4</td>\n",
       "      <td>125.0</td>\n",
       "      <td>216.0</td>\n",
       "      <td>0.0</td>\n",
       "      <td>0.0</td>\n",
       "      <td>140.0</td>\n",
       "      <td>0.0</td>\n",
       "      <td>0.0</td>\n",
       "      <td>NaN</td>\n",
       "      <td>NaN</td>\n",
       "      <td>NaN</td>\n",
       "      <td>1</td>\n",
       "    </tr>\n",
       "    <tr>\n",
       "      <th>1</th>\n",
       "      <td>55</td>\n",
       "      <td>1</td>\n",
       "      <td>4</td>\n",
       "      <td>158.0</td>\n",
       "      <td>217.0</td>\n",
       "      <td>0.0</td>\n",
       "      <td>0.0</td>\n",
       "      <td>110.0</td>\n",
       "      <td>1.0</td>\n",
       "      <td>2.5</td>\n",
       "      <td>2.0</td>\n",
       "      <td>NaN</td>\n",
       "      <td>NaN</td>\n",
       "      <td>1</td>\n",
       "    </tr>\n",
       "    <tr>\n",
       "      <th>2</th>\n",
       "      <td>54</td>\n",
       "      <td>0</td>\n",
       "      <td>3</td>\n",
       "      <td>135.0</td>\n",
       "      <td>304.0</td>\n",
       "      <td>1.0</td>\n",
       "      <td>0.0</td>\n",
       "      <td>170.0</td>\n",
       "      <td>0.0</td>\n",
       "      <td>0.0</td>\n",
       "      <td>1.0</td>\n",
       "      <td>0.0</td>\n",
       "      <td>3.0</td>\n",
       "      <td>0</td>\n",
       "    </tr>\n",
       "    <tr>\n",
       "      <th>3</th>\n",
       "      <td>48</td>\n",
       "      <td>0</td>\n",
       "      <td>3</td>\n",
       "      <td>120.0</td>\n",
       "      <td>195.0</td>\n",
       "      <td>0.0</td>\n",
       "      <td>0.0</td>\n",
       "      <td>125.0</td>\n",
       "      <td>0.0</td>\n",
       "      <td>0.0</td>\n",
       "      <td>NaN</td>\n",
       "      <td>NaN</td>\n",
       "      <td>NaN</td>\n",
       "      <td>0</td>\n",
       "    </tr>\n",
       "    <tr>\n",
       "      <th>4</th>\n",
       "      <td>50</td>\n",
       "      <td>1</td>\n",
       "      <td>4</td>\n",
       "      <td>120.0</td>\n",
       "      <td>0.0</td>\n",
       "      <td>0.0</td>\n",
       "      <td>1.0</td>\n",
       "      <td>156.0</td>\n",
       "      <td>1.0</td>\n",
       "      <td>0.0</td>\n",
       "      <td>1.0</td>\n",
       "      <td>NaN</td>\n",
       "      <td>6.0</td>\n",
       "      <td>3</td>\n",
       "    </tr>\n",
       "  </tbody>\n",
       "</table>\n",
       "</div>"
      ],
      "text/plain": [
       "   age  sex  chest_pain_type  resting_bp  ser_chol  fast_glucose  rest_ecg  \\\n",
       "0   54    1                4       125.0     216.0           0.0       0.0   \n",
       "1   55    1                4       158.0     217.0           0.0       0.0   \n",
       "2   54    0                3       135.0     304.0           1.0       0.0   \n",
       "3   48    0                3       120.0     195.0           0.0       0.0   \n",
       "4   50    1                4       120.0       0.0           0.0       1.0   \n",
       "\n",
       "   heart_rate  exc_angina  depression  peak_exc  maj_vessels  thal  CVD  \n",
       "0       140.0         0.0         0.0       NaN          NaN   NaN    1  \n",
       "1       110.0         1.0         2.5       2.0          NaN   NaN    1  \n",
       "2       170.0         0.0         0.0       1.0          0.0   3.0    0  \n",
       "3       125.0         0.0         0.0       NaN          NaN   NaN    0  \n",
       "4       156.0         1.0         0.0       1.0          NaN   6.0    3  "
      ]
     },
     "execution_count": 8,
     "metadata": {},
     "output_type": "execute_result"
    }
   ],
   "source": [
    "heart_train.rename(columns={'Column1' : 'age', 'Column2' : 'sex', 'Column3' : 'chest_pain_type', 'Column4' : 'resting_bp', \n",
    "                           'Column5' : 'ser_chol', 'Column6' : 'fast_glucose', 'Column7' : 'rest_ecg', 'Column8' : 'heart_rate', \n",
    "                           'Column9' : 'exc_angina', 'Column10' : 'depression', 'Column11' : 'peak_exc', 'Column12' : 'maj_vessels',\n",
    "                           'Column13' : 'thal', 'Column14' : 'CVD'}, inplace = True)\n",
    "heart_train.head()"
   ]
  },
  {
   "cell_type": "markdown",
   "metadata": {},
   "source": [
    "### **Checking Missing Values**"
   ]
  },
  {
   "cell_type": "code",
   "execution_count": 9,
   "metadata": {},
   "outputs": [
    {
     "data": {
      "text/plain": [
       "age                  0\n",
       "sex                  0\n",
       "chest_pain_type      0\n",
       "resting_bp          47\n",
       "ser_chol            24\n",
       "fast_glucose        78\n",
       "rest_ecg             2\n",
       "heart_rate          44\n",
       "exc_angina          44\n",
       "depression          49\n",
       "peak_exc           262\n",
       "maj_vessels        514\n",
       "thal               408\n",
       "CVD                  0\n",
       "dtype: int64"
      ]
     },
     "execution_count": 9,
     "metadata": {},
     "output_type": "execute_result"
    }
   ],
   "source": [
    "heart_train.isnull().sum()"
   ]
  },
  {
   "cell_type": "code",
   "execution_count": 10,
   "metadata": {},
   "outputs": [
    {
     "name": "stdout",
     "output_type": "stream",
     "text": [
      "523 instances have missing values which is 67% of the total data\n"
     ]
    }
   ],
   "source": [
    "count = 0\n",
    "for i in heart_train.isnull().sum(axis = 1):\n",
    "    if i > 0:\n",
    "        count = count + 1\n",
    "print(\"%i instances have missing values which is %i%% of the total data\" %(count, round((float(count)/len(heart_train.index))*100)))"
   ]
  },
  {
   "cell_type": "code",
   "execution_count": 11,
   "metadata": {},
   "outputs": [
    {
     "data": {
      "text/plain": [
       "779"
      ]
     },
     "execution_count": 11,
     "metadata": {},
     "output_type": "execute_result"
    }
   ],
   "source": [
    "len(heart_train.index)"
   ]
  },
  {
   "cell_type": "markdown",
   "metadata": {},
   "source": [
    "### **Changing Class Attributes**\n",
    "\n",
    "angiographic_disease has 5 types of values (0 = No, 1,2,3,4 = Yes)<br>\n",
    "Change all 1,2,3,4 values to 1 (1 = yes)"
   ]
  },
  {
   "cell_type": "code",
   "execution_count": 12,
   "metadata": {},
   "outputs": [],
   "source": [
    "heart_train['CVD'] = (heart_train['CVD'] >= 1).astype(int)"
   ]
  },
  {
   "cell_type": "markdown",
   "metadata": {},
   "source": [
    "### **Dropout Missing Instances**"
   ]
  },
  {
   "cell_type": "code",
   "execution_count": 13,
   "metadata": {},
   "outputs": [],
   "source": [
    "heart_train = heart_train.fillna(heart_train.mean())"
   ]
  },
  {
   "cell_type": "markdown",
   "metadata": {},
   "source": [
    "### **Changing Data Types to Integer**"
   ]
  },
  {
   "cell_type": "code",
   "execution_count": 14,
   "metadata": {},
   "outputs": [],
   "source": [
    "heart_train = heart_train.astype(int)"
   ]
  },
  {
   "cell_type": "code",
   "execution_count": 15,
   "metadata": {},
   "outputs": [
    {
     "data": {
      "text/plain": [
       "age                int64\n",
       "sex                int64\n",
       "chest_pain_type    int64\n",
       "resting_bp         int64\n",
       "ser_chol           int64\n",
       "fast_glucose       int64\n",
       "rest_ecg           int64\n",
       "heart_rate         int64\n",
       "exc_angina         int64\n",
       "depression         int64\n",
       "peak_exc           int64\n",
       "maj_vessels        int64\n",
       "thal               int64\n",
       "CVD                int64\n",
       "dtype: object"
      ]
     },
     "execution_count": 15,
     "metadata": {},
     "output_type": "execute_result"
    }
   ],
   "source": [
    "heart_train.dtypes"
   ]
  },
  {
   "cell_type": "markdown",
   "metadata": {},
   "source": [
    "### **Visualize the Data**"
   ]
  },
  {
   "cell_type": "code",
   "execution_count": 16,
   "metadata": {},
   "outputs": [
    {
     "data": {
      "image/png": "[encoded data removed]",
      "text/plain": [
       "<Figure size 1080x720 with 14 Axes>"
      ]
     },
     "metadata": {
      "needs_background": "light"
     },
     "output_type": "display_data"
    }
   ],
   "source": [
    "def histograms(df, ft, rw, cl):\n",
    "    fig = matplt.figure(figsize = (15,10))\n",
    "    \n",
    "    for i, feature in enumerate (ft):\n",
    "        ax = fig.add_subplot(rw, cl, i+1)\n",
    "        df[feature].hist(bins = 20, ax = ax, facecolor = 'red')\n",
    "        ax.set_title(feature)\n",
    "    fig.tight_layout()\n",
    "    matplt.show()\n",
    "    fig.savefig('/home/samiulengineer/Desktop/sami/result_image/data_visualization.png')\n",
    "histograms(heart_train, heart_train.columns, 3, 5)"
   ]
  },
  {
   "cell_type": "markdown",
   "metadata": {},
   "source": [
    "### **Class Balance-Imbalance Check**"
   ]
  },
  {
   "cell_type": "code",
   "execution_count": 17,
   "metadata": {},
   "outputs": [
    {
     "data": {
      "image/png": "[encoded data removed]",
      "text/plain": [
       "<Figure size 432x288 with 1 Axes>"
      ]
     },
     "metadata": {
      "needs_background": "light"
     },
     "output_type": "display_data"
    }
   ],
   "source": [
    "fig = sb.countplot(x = heart_train['CVD'], data = heart_train, palette = 'hls')\n",
    "\n",
    "\n",
    "sb.axes_style(\"whitegrid\")\n",
    "\n",
    "fig.get_figure().savefig('/home/samiulengineer/Desktop/sami/result_image/class_balance_check.png')"
   ]
  },
  {
   "cell_type": "code",
   "execution_count": 18,
   "metadata": {},
   "outputs": [
    {
     "data": {
      "text/plain": [
       "1    55.198973\n",
       "0    44.801027\n",
       "Name: CVD, dtype: float64"
      ]
     },
     "execution_count": 18,
     "metadata": {},
     "output_type": "execute_result"
    }
   ],
   "source": [
    "(heart_train['CVD'].value_counts()/heart_train['CVD'].count())*100"
   ]
  },
  {
   "cell_type": "code",
   "execution_count": 19,
   "metadata": {},
   "outputs": [
    {
     "data": {
      "text/plain": [
       "1    55.198973\n",
       "0    44.801027\n",
       "Name: CVD, dtype: float64"
      ]
     },
     "execution_count": 19,
     "metadata": {},
     "output_type": "execute_result"
    }
   ],
   "source": [
    "(heart_train['CVD'].value_counts()/heart_train['CVD'].count())*100"
   ]
  },
  {
   "cell_type": "markdown",
   "metadata": {},
   "source": [
    "Here, it is clearly visible that, class label distribution is balnced"
   ]
  },
  {
   "cell_type": "markdown",
   "metadata": {},
   "source": [
    "### **Checking Impact Level on Class Attribute**"
   ]
  },
  {
   "cell_type": "code",
   "execution_count": 38,
   "metadata": {},
   "outputs": [
    {
     "data": {
      "image/png": "[encoded data removed]",
      "text/plain": [
       "<Figure size 1260x180 with 7 Axes>"
      ]
     },
     "metadata": {
      "needs_background": "light"
     },
     "output_type": "display_data"
    },
    {
     "data": {
      "image/png": "[encoded data removed]",
      "text/plain": [
       "<Figure size 1080x180 with 6 Axes>"
      ]
     },
     "metadata": {
      "needs_background": "light"
     },
     "output_type": "display_data"
    }
   ],
   "source": [
    "fig1 = sb.pairplot(data = heart_train, \n",
    "            y_vars = ['CVD'], \n",
    "            x_vars = ['age', 'sex', 'chest_pain_type', 'resting_bp', 'ser_chol', 'fast_glucose','rest_ecg'], \n",
    "            kind = 'reg',\n",
    "            diag_kind = 'kde'\n",
    "           )\n",
    "\n",
    "fig2 = sb.pairplot(data = heart_train, \n",
    "            y_vars = ['CVD'], \n",
    "            x_vars = ['heart_rate', 'exc_angina', 'depression', 'peak_exc', 'maj_vessels', 'thal'], kind = 'reg')\n",
    "\n",
    "fig1.savefig('/home/samiulengineer/Desktop/sami/result_image/class_impact_attributes_1.png')\n",
    "fig2.savefig('/home/samiulengineer/Desktop/sami/result_image/class_impact_attributes_2.png')"
   ]
  },
  {
   "cell_type": "code",
   "execution_count": null,
   "metadata": {},
   "outputs": [],
   "source": []
  },
  {
   "cell_type": "markdown",
   "metadata": {},
   "source": [
    "It is clear that, class label is fully balanced which is perfect for machine learning modeling"
   ]
  },
  {
   "cell_type": "markdown",
   "metadata": {},
   "source": [
    "### **Understanding Data Structure**"
   ]
  },
  {
   "cell_type": "code",
   "execution_count": 21,
   "metadata": {},
   "outputs": [
    {
     "data": {
      "text/html": [
       "<style  type=\"text/css\" >\n",
       "</style><table id=\"T_a9d2b8b4_4315_11e9_b0d1_a93c080488d8\" ><thead>    <tr>        <th class=\"blank level0\" ></th>        <th class=\"col_heading level0 col0\" >age</th>        <th class=\"col_heading level0 col1\" >sex</th>        <th class=\"col_heading level0 col2\" >chest_pain_type</th>        <th class=\"col_heading level0 col3\" >resting_bp</th>        <th class=\"col_heading level0 col4\" >ser_chol</th>        <th class=\"col_heading level0 col5\" >fast_glucose</th>        <th class=\"col_heading level0 col6\" >rest_ecg</th>        <th class=\"col_heading level0 col7\" >heart_rate</th>        <th class=\"col_heading level0 col8\" >exc_angina</th>        <th class=\"col_heading level0 col9\" >depression</th>        <th class=\"col_heading level0 col10\" >peak_exc</th>        <th class=\"col_heading level0 col11\" >maj_vessels</th>        <th class=\"col_heading level0 col12\" >thal</th>        <th class=\"col_heading level0 col13\" >CVD</th>    </tr></thead><tbody>\n",
       "                <tr>\n",
       "                        <th id=\"T_a9d2b8b4_4315_11e9_b0d1_a93c080488d8level0_row0\" class=\"row_heading level0 row0\" >count</th>\n",
       "                        <td id=\"T_a9d2b8b4_4315_11e9_b0d1_a93c080488d8row0_col0\" class=\"data row0 col0\" >779</td>\n",
       "                        <td id=\"T_a9d2b8b4_4315_11e9_b0d1_a93c080488d8row0_col1\" class=\"data row0 col1\" >779</td>\n",
       "                        <td id=\"T_a9d2b8b4_4315_11e9_b0d1_a93c080488d8row0_col2\" class=\"data row0 col2\" >779</td>\n",
       "                        <td id=\"T_a9d2b8b4_4315_11e9_b0d1_a93c080488d8row0_col3\" class=\"data row0 col3\" >779</td>\n",
       "                        <td id=\"T_a9d2b8b4_4315_11e9_b0d1_a93c080488d8row0_col4\" class=\"data row0 col4\" >779</td>\n",
       "                        <td id=\"T_a9d2b8b4_4315_11e9_b0d1_a93c080488d8row0_col5\" class=\"data row0 col5\" >779</td>\n",
       "                        <td id=\"T_a9d2b8b4_4315_11e9_b0d1_a93c080488d8row0_col6\" class=\"data row0 col6\" >779</td>\n",
       "                        <td id=\"T_a9d2b8b4_4315_11e9_b0d1_a93c080488d8row0_col7\" class=\"data row0 col7\" >779</td>\n",
       "                        <td id=\"T_a9d2b8b4_4315_11e9_b0d1_a93c080488d8row0_col8\" class=\"data row0 col8\" >779</td>\n",
       "                        <td id=\"T_a9d2b8b4_4315_11e9_b0d1_a93c080488d8row0_col9\" class=\"data row0 col9\" >779</td>\n",
       "                        <td id=\"T_a9d2b8b4_4315_11e9_b0d1_a93c080488d8row0_col10\" class=\"data row0 col10\" >779</td>\n",
       "                        <td id=\"T_a9d2b8b4_4315_11e9_b0d1_a93c080488d8row0_col11\" class=\"data row0 col11\" >779</td>\n",
       "                        <td id=\"T_a9d2b8b4_4315_11e9_b0d1_a93c080488d8row0_col12\" class=\"data row0 col12\" >779</td>\n",
       "                        <td id=\"T_a9d2b8b4_4315_11e9_b0d1_a93c080488d8row0_col13\" class=\"data row0 col13\" >779</td>\n",
       "            </tr>\n",
       "            <tr>\n",
       "                        <th id=\"T_a9d2b8b4_4315_11e9_b0d1_a93c080488d8level0_row1\" class=\"row_heading level0 row1\" >mean</th>\n",
       "                        <td id=\"T_a9d2b8b4_4315_11e9_b0d1_a93c080488d8row1_col0\" class=\"data row1 col0\" >53.5</td>\n",
       "                        <td id=\"T_a9d2b8b4_4315_11e9_b0d1_a93c080488d8row1_col1\" class=\"data row1 col1\" >0.779</td>\n",
       "                        <td id=\"T_a9d2b8b4_4315_11e9_b0d1_a93c080488d8row1_col2\" class=\"data row1 col2\" >3.26</td>\n",
       "                        <td id=\"T_a9d2b8b4_4315_11e9_b0d1_a93c080488d8row1_col3\" class=\"data row1 col3\" >132</td>\n",
       "                        <td id=\"T_a9d2b8b4_4315_11e9_b0d1_a93c080488d8row1_col4\" class=\"data row1 col4\" >200</td>\n",
       "                        <td id=\"T_a9d2b8b4_4315_11e9_b0d1_a93c080488d8row1_col5\" class=\"data row1 col5\" >0.142</td>\n",
       "                        <td id=\"T_a9d2b8b4_4315_11e9_b0d1_a93c080488d8row1_col6\" class=\"data row1 col6\" >0.602</td>\n",
       "                        <td id=\"T_a9d2b8b4_4315_11e9_b0d1_a93c080488d8row1_col7\" class=\"data row1 col7\" >138</td>\n",
       "                        <td id=\"T_a9d2b8b4_4315_11e9_b0d1_a93c080488d8row1_col8\" class=\"data row1 col8\" >0.37</td>\n",
       "                        <td id=\"T_a9d2b8b4_4315_11e9_b0d1_a93c080488d8row1_col9\" class=\"data row1 col9\" >3.84</td>\n",
       "                        <td id=\"T_a9d2b8b4_4315_11e9_b0d1_a93c080488d8row1_col10\" class=\"data row1 col10\" >1.51</td>\n",
       "                        <td id=\"T_a9d2b8b4_4315_11e9_b0d1_a93c080488d8row1_col11\" class=\"data row1 col11\" >0.234</td>\n",
       "                        <td id=\"T_a9d2b8b4_4315_11e9_b0d1_a93c080488d8row1_col12\" class=\"data row1 col12\" >5.01</td>\n",
       "                        <td id=\"T_a9d2b8b4_4315_11e9_b0d1_a93c080488d8row1_col13\" class=\"data row1 col13\" >0.552</td>\n",
       "            </tr>\n",
       "            <tr>\n",
       "                        <th id=\"T_a9d2b8b4_4315_11e9_b0d1_a93c080488d8level0_row2\" class=\"row_heading level0 row2\" >std</th>\n",
       "                        <td id=\"T_a9d2b8b4_4315_11e9_b0d1_a93c080488d8row2_col0\" class=\"data row2 col0\" >9.51</td>\n",
       "                        <td id=\"T_a9d2b8b4_4315_11e9_b0d1_a93c080488d8row2_col1\" class=\"data row2 col1\" >0.415</td>\n",
       "                        <td id=\"T_a9d2b8b4_4315_11e9_b0d1_a93c080488d8row2_col2\" class=\"data row2 col2\" >0.926</td>\n",
       "                        <td id=\"T_a9d2b8b4_4315_11e9_b0d1_a93c080488d8row2_col3\" class=\"data row2 col3\" >18.5</td>\n",
       "                        <td id=\"T_a9d2b8b4_4315_11e9_b0d1_a93c080488d8row2_col4\" class=\"data row2 col4\" >108</td>\n",
       "                        <td id=\"T_a9d2b8b4_4315_11e9_b0d1_a93c080488d8row2_col5\" class=\"data row2 col5\" >0.35</td>\n",
       "                        <td id=\"T_a9d2b8b4_4315_11e9_b0d1_a93c080488d8row2_col6\" class=\"data row2 col6\" >0.809</td>\n",
       "                        <td id=\"T_a9d2b8b4_4315_11e9_b0d1_a93c080488d8row2_col7\" class=\"data row2 col7\" >25.3</td>\n",
       "                        <td id=\"T_a9d2b8b4_4315_11e9_b0d1_a93c080488d8row2_col8\" class=\"data row2 col8\" >0.483</td>\n",
       "                        <td id=\"T_a9d2b8b4_4315_11e9_b0d1_a93c080488d8row2_col9\" class=\"data row2 col9\" >7.56</td>\n",
       "                        <td id=\"T_a9d2b8b4_4315_11e9_b0d1_a93c080488d8row2_col10\" class=\"data row2 col10\" >0.622</td>\n",
       "                        <td id=\"T_a9d2b8b4_4315_11e9_b0d1_a93c080488d8row2_col11\" class=\"data row2 col11\" >0.635</td>\n",
       "                        <td id=\"T_a9d2b8b4_4315_11e9_b0d1_a93c080488d8row2_col12\" class=\"data row2 col12\" >1.33</td>\n",
       "                        <td id=\"T_a9d2b8b4_4315_11e9_b0d1_a93c080488d8row2_col13\" class=\"data row2 col13\" >0.498</td>\n",
       "            </tr>\n",
       "            <tr>\n",
       "                        <th id=\"T_a9d2b8b4_4315_11e9_b0d1_a93c080488d8level0_row3\" class=\"row_heading level0 row3\" >min</th>\n",
       "                        <td id=\"T_a9d2b8b4_4315_11e9_b0d1_a93c080488d8row3_col0\" class=\"data row3 col0\" >28</td>\n",
       "                        <td id=\"T_a9d2b8b4_4315_11e9_b0d1_a93c080488d8row3_col1\" class=\"data row3 col1\" >0</td>\n",
       "                        <td id=\"T_a9d2b8b4_4315_11e9_b0d1_a93c080488d8row3_col2\" class=\"data row3 col2\" >1</td>\n",
       "                        <td id=\"T_a9d2b8b4_4315_11e9_b0d1_a93c080488d8row3_col3\" class=\"data row3 col3\" >0</td>\n",
       "                        <td id=\"T_a9d2b8b4_4315_11e9_b0d1_a93c080488d8row3_col4\" class=\"data row3 col4\" >0</td>\n",
       "                        <td id=\"T_a9d2b8b4_4315_11e9_b0d1_a93c080488d8row3_col5\" class=\"data row3 col5\" >0</td>\n",
       "                        <td id=\"T_a9d2b8b4_4315_11e9_b0d1_a93c080488d8row3_col6\" class=\"data row3 col6\" >0</td>\n",
       "                        <td id=\"T_a9d2b8b4_4315_11e9_b0d1_a93c080488d8row3_col7\" class=\"data row3 col7\" >60</td>\n",
       "                        <td id=\"T_a9d2b8b4_4315_11e9_b0d1_a93c080488d8row3_col8\" class=\"data row3 col8\" >0</td>\n",
       "                        <td id=\"T_a9d2b8b4_4315_11e9_b0d1_a93c080488d8row3_col9\" class=\"data row3 col9\" >-2</td>\n",
       "                        <td id=\"T_a9d2b8b4_4315_11e9_b0d1_a93c080488d8row3_col10\" class=\"data row3 col10\" >1</td>\n",
       "                        <td id=\"T_a9d2b8b4_4315_11e9_b0d1_a93c080488d8row3_col11\" class=\"data row3 col11\" >0</td>\n",
       "                        <td id=\"T_a9d2b8b4_4315_11e9_b0d1_a93c080488d8row3_col12\" class=\"data row3 col12\" >3</td>\n",
       "                        <td id=\"T_a9d2b8b4_4315_11e9_b0d1_a93c080488d8row3_col13\" class=\"data row3 col13\" >0</td>\n",
       "            </tr>\n",
       "            <tr>\n",
       "                        <th id=\"T_a9d2b8b4_4315_11e9_b0d1_a93c080488d8level0_row4\" class=\"row_heading level0 row4\" >25%</th>\n",
       "                        <td id=\"T_a9d2b8b4_4315_11e9_b0d1_a93c080488d8row4_col0\" class=\"data row4 col0\" >47</td>\n",
       "                        <td id=\"T_a9d2b8b4_4315_11e9_b0d1_a93c080488d8row4_col1\" class=\"data row4 col1\" >1</td>\n",
       "                        <td id=\"T_a9d2b8b4_4315_11e9_b0d1_a93c080488d8row4_col2\" class=\"data row4 col2\" >3</td>\n",
       "                        <td id=\"T_a9d2b8b4_4315_11e9_b0d1_a93c080488d8row4_col3\" class=\"data row4 col3\" >120</td>\n",
       "                        <td id=\"T_a9d2b8b4_4315_11e9_b0d1_a93c080488d8row4_col4\" class=\"data row4 col4\" >179</td>\n",
       "                        <td id=\"T_a9d2b8b4_4315_11e9_b0d1_a93c080488d8row4_col5\" class=\"data row4 col5\" >0</td>\n",
       "                        <td id=\"T_a9d2b8b4_4315_11e9_b0d1_a93c080488d8row4_col6\" class=\"data row4 col6\" >0</td>\n",
       "                        <td id=\"T_a9d2b8b4_4315_11e9_b0d1_a93c080488d8row4_col7\" class=\"data row4 col7\" >120</td>\n",
       "                        <td id=\"T_a9d2b8b4_4315_11e9_b0d1_a93c080488d8row4_col8\" class=\"data row4 col8\" >0</td>\n",
       "                        <td id=\"T_a9d2b8b4_4315_11e9_b0d1_a93c080488d8row4_col9\" class=\"data row4 col9\" >0</td>\n",
       "                        <td id=\"T_a9d2b8b4_4315_11e9_b0d1_a93c080488d8row4_col10\" class=\"data row4 col10\" >1</td>\n",
       "                        <td id=\"T_a9d2b8b4_4315_11e9_b0d1_a93c080488d8row4_col11\" class=\"data row4 col11\" >0</td>\n",
       "                        <td id=\"T_a9d2b8b4_4315_11e9_b0d1_a93c080488d8row4_col12\" class=\"data row4 col12\" >5</td>\n",
       "                        <td id=\"T_a9d2b8b4_4315_11e9_b0d1_a93c080488d8row4_col13\" class=\"data row4 col13\" >0</td>\n",
       "            </tr>\n",
       "            <tr>\n",
       "                        <th id=\"T_a9d2b8b4_4315_11e9_b0d1_a93c080488d8level0_row5\" class=\"row_heading level0 row5\" >50%</th>\n",
       "                        <td id=\"T_a9d2b8b4_4315_11e9_b0d1_a93c080488d8row5_col0\" class=\"data row5 col0\" >54</td>\n",
       "                        <td id=\"T_a9d2b8b4_4315_11e9_b0d1_a93c080488d8row5_col1\" class=\"data row5 col1\" >1</td>\n",
       "                        <td id=\"T_a9d2b8b4_4315_11e9_b0d1_a93c080488d8row5_col2\" class=\"data row5 col2\" >4</td>\n",
       "                        <td id=\"T_a9d2b8b4_4315_11e9_b0d1_a93c080488d8row5_col3\" class=\"data row5 col3\" >130</td>\n",
       "                        <td id=\"T_a9d2b8b4_4315_11e9_b0d1_a93c080488d8row5_col4\" class=\"data row5 col4\" >223</td>\n",
       "                        <td id=\"T_a9d2b8b4_4315_11e9_b0d1_a93c080488d8row5_col5\" class=\"data row5 col5\" >0</td>\n",
       "                        <td id=\"T_a9d2b8b4_4315_11e9_b0d1_a93c080488d8row5_col6\" class=\"data row5 col6\" >0</td>\n",
       "                        <td id=\"T_a9d2b8b4_4315_11e9_b0d1_a93c080488d8row5_col7\" class=\"data row5 col7\" >138</td>\n",
       "                        <td id=\"T_a9d2b8b4_4315_11e9_b0d1_a93c080488d8row5_col8\" class=\"data row5 col8\" >0</td>\n",
       "                        <td id=\"T_a9d2b8b4_4315_11e9_b0d1_a93c080488d8row5_col9\" class=\"data row5 col9\" >1</td>\n",
       "                        <td id=\"T_a9d2b8b4_4315_11e9_b0d1_a93c080488d8row5_col10\" class=\"data row5 col10\" >1</td>\n",
       "                        <td id=\"T_a9d2b8b4_4315_11e9_b0d1_a93c080488d8row5_col11\" class=\"data row5 col11\" >0</td>\n",
       "                        <td id=\"T_a9d2b8b4_4315_11e9_b0d1_a93c080488d8row5_col12\" class=\"data row5 col12\" >5</td>\n",
       "                        <td id=\"T_a9d2b8b4_4315_11e9_b0d1_a93c080488d8row5_col13\" class=\"data row5 col13\" >1</td>\n",
       "            </tr>\n",
       "            <tr>\n",
       "                        <th id=\"T_a9d2b8b4_4315_11e9_b0d1_a93c080488d8level0_row6\" class=\"row_heading level0 row6\" >75%</th>\n",
       "                        <td id=\"T_a9d2b8b4_4315_11e9_b0d1_a93c080488d8row6_col0\" class=\"data row6 col0\" >60</td>\n",
       "                        <td id=\"T_a9d2b8b4_4315_11e9_b0d1_a93c080488d8row6_col1\" class=\"data row6 col1\" >1</td>\n",
       "                        <td id=\"T_a9d2b8b4_4315_11e9_b0d1_a93c080488d8row6_col2\" class=\"data row6 col2\" >4</td>\n",
       "                        <td id=\"T_a9d2b8b4_4315_11e9_b0d1_a93c080488d8row6_col3\" class=\"data row6 col3\" >140</td>\n",
       "                        <td id=\"T_a9d2b8b4_4315_11e9_b0d1_a93c080488d8row6_col4\" class=\"data row6 col4\" >269</td>\n",
       "                        <td id=\"T_a9d2b8b4_4315_11e9_b0d1_a93c080488d8row6_col5\" class=\"data row6 col5\" >0</td>\n",
       "                        <td id=\"T_a9d2b8b4_4315_11e9_b0d1_a93c080488d8row6_col6\" class=\"data row6 col6\" >1</td>\n",
       "                        <td id=\"T_a9d2b8b4_4315_11e9_b0d1_a93c080488d8row6_col7\" class=\"data row6 col7\" >157</td>\n",
       "                        <td id=\"T_a9d2b8b4_4315_11e9_b0d1_a93c080488d8row6_col8\" class=\"data row6 col8\" >1</td>\n",
       "                        <td id=\"T_a9d2b8b4_4315_11e9_b0d1_a93c080488d8row6_col9\" class=\"data row6 col9\" >3</td>\n",
       "                        <td id=\"T_a9d2b8b4_4315_11e9_b0d1_a93c080488d8row6_col10\" class=\"data row6 col10\" >2</td>\n",
       "                        <td id=\"T_a9d2b8b4_4315_11e9_b0d1_a93c080488d8row6_col11\" class=\"data row6 col11\" >0</td>\n",
       "                        <td id=\"T_a9d2b8b4_4315_11e9_b0d1_a93c080488d8row6_col12\" class=\"data row6 col12\" >6</td>\n",
       "                        <td id=\"T_a9d2b8b4_4315_11e9_b0d1_a93c080488d8row6_col13\" class=\"data row6 col13\" >1</td>\n",
       "            </tr>\n",
       "            <tr>\n",
       "                        <th id=\"T_a9d2b8b4_4315_11e9_b0d1_a93c080488d8level0_row7\" class=\"row_heading level0 row7\" >max</th>\n",
       "                        <td id=\"T_a9d2b8b4_4315_11e9_b0d1_a93c080488d8row7_col0\" class=\"data row7 col0\" >77</td>\n",
       "                        <td id=\"T_a9d2b8b4_4315_11e9_b0d1_a93c080488d8row7_col1\" class=\"data row7 col1\" >1</td>\n",
       "                        <td id=\"T_a9d2b8b4_4315_11e9_b0d1_a93c080488d8row7_col2\" class=\"data row7 col2\" >4</td>\n",
       "                        <td id=\"T_a9d2b8b4_4315_11e9_b0d1_a93c080488d8row7_col3\" class=\"data row7 col3\" >200</td>\n",
       "                        <td id=\"T_a9d2b8b4_4315_11e9_b0d1_a93c080488d8row7_col4\" class=\"data row7 col4\" >529</td>\n",
       "                        <td id=\"T_a9d2b8b4_4315_11e9_b0d1_a93c080488d8row7_col5\" class=\"data row7 col5\" >1</td>\n",
       "                        <td id=\"T_a9d2b8b4_4315_11e9_b0d1_a93c080488d8row7_col6\" class=\"data row7 col6\" >2</td>\n",
       "                        <td id=\"T_a9d2b8b4_4315_11e9_b0d1_a93c080488d8row7_col7\" class=\"data row7 col7\" >202</td>\n",
       "                        <td id=\"T_a9d2b8b4_4315_11e9_b0d1_a93c080488d8row7_col8\" class=\"data row7 col8\" >1</td>\n",
       "                        <td id=\"T_a9d2b8b4_4315_11e9_b0d1_a93c080488d8row7_col9\" class=\"data row7 col9\" >62</td>\n",
       "                        <td id=\"T_a9d2b8b4_4315_11e9_b0d1_a93c080488d8row7_col10\" class=\"data row7 col10\" >3</td>\n",
       "                        <td id=\"T_a9d2b8b4_4315_11e9_b0d1_a93c080488d8row7_col11\" class=\"data row7 col11\" >3</td>\n",
       "                        <td id=\"T_a9d2b8b4_4315_11e9_b0d1_a93c080488d8row7_col12\" class=\"data row7 col12\" >7</td>\n",
       "                        <td id=\"T_a9d2b8b4_4315_11e9_b0d1_a93c080488d8row7_col13\" class=\"data row7 col13\" >1</td>\n",
       "            </tr>\n",
       "    </tbody></table>"
      ],
      "text/plain": [
       "<pandas.io.formats.style.Styler at 0x7f5dff00d4e0>"
      ]
     },
     "execution_count": 21,
     "metadata": {},
     "output_type": "execute_result"
    }
   ],
   "source": [
    "heart_train.describe().style.set_precision(3)"
   ]
  },
  {
   "cell_type": "code",
   "execution_count": null,
   "metadata": {},
   "outputs": [],
   "source": []
  }
 ],
 "metadata": {
  "kernelspec": {
   "display_name": "Python 3",
   "language": "python",
   "name": "python3"
  },
  "language_info": {
   "codemirror_mode": {
    "name": "ipython",
    "version": 3
   },
   "file_extension": ".py",
   "mimetype": "text/x-python",
   "name": "python",
   "nbconvert_exporter": "python",
   "pygments_lexer": "ipython3",
   "version": "3.6.8"
  }
 },
 "nbformat": 4,
 "nbformat_minor": 2
}
