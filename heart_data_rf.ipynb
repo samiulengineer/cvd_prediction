{
 "cells": [
  {
   "cell_type": "markdown",
   "metadata": {},
   "source": [
    "## **Heart Disease Prediction using Logistic Regression**\n",
    "\n",
    "Heart disease is a common disease specially for aged people. There are some certain factors which cause angiographic disease. There are two csv files in kaggle (training and test). As we all know, data prepocessing, cleaning, feature selection and aggregation is very crucial to design a perfect model. Thus, I will try to do data preprocessing step by step and then Logistic Model will be used to train the dataset. Afterthat, as test dataset does not have class label, I will fit the test into training dataset and put a label whether they have heart disease or not."
   ]
  },
  {
   "cell_type": "markdown",
   "metadata": {},
   "source": [
    "### **Importing Libraries**"
   ]
  },
  {
   "cell_type": "code",
   "execution_count": 104,
   "metadata": {},
   "outputs": [],
   "source": [
    "import pandas as pd\n",
    "import numpy as np\n",
    "import statsmodels.api as sm\n",
    "import scipy.stats as sci\n",
    "import matplotlib.pyplot as matplt\n",
    "import seaborn as sb\n",
    "from sklearn.metrics import confusion_matrix\n",
    "import matplotlib.mlab as matlab\n",
    "%matplotlib inline"
   ]
  },
  {
   "cell_type": "markdown",
   "metadata": {},
   "source": [
    "### **Loading Training Dataset**"
   ]
  },
  {
   "cell_type": "code",
   "execution_count": 105,
   "metadata": {},
   "outputs": [
    {
     "data": {
      "text/html": [
       "<div>\n",
       "<style scoped>\n",
       "    .dataframe tbody tr th:only-of-type {\n",
       "        vertical-align: middle;\n",
       "    }\n",
       "\n",
       "    .dataframe tbody tr th {\n",
       "        vertical-align: top;\n",
       "    }\n",
       "\n",
       "    .dataframe thead th {\n",
       "        text-align: right;\n",
       "    }\n",
       "</style>\n",
       "<table border=\"1\" class=\"dataframe\">\n",
       "  <thead>\n",
       "    <tr style=\"text-align: right;\">\n",
       "      <th></th>\n",
       "      <th>Column1</th>\n",
       "      <th>Column2</th>\n",
       "      <th>Column3</th>\n",
       "      <th>Column4</th>\n",
       "      <th>Column5</th>\n",
       "      <th>Column6</th>\n",
       "      <th>Column7</th>\n",
       "      <th>Column8</th>\n",
       "      <th>Column9</th>\n",
       "      <th>Column10</th>\n",
       "      <th>Column11</th>\n",
       "      <th>Column12</th>\n",
       "      <th>Column13</th>\n",
       "      <th>Column14</th>\n",
       "    </tr>\n",
       "  </thead>\n",
       "  <tbody>\n",
       "    <tr>\n",
       "      <th>0</th>\n",
       "      <td>54</td>\n",
       "      <td>1</td>\n",
       "      <td>4</td>\n",
       "      <td>125</td>\n",
       "      <td>216</td>\n",
       "      <td>0</td>\n",
       "      <td>0</td>\n",
       "      <td>140</td>\n",
       "      <td>0</td>\n",
       "      <td>0</td>\n",
       "      <td>?</td>\n",
       "      <td>?</td>\n",
       "      <td>?</td>\n",
       "      <td>1</td>\n",
       "    </tr>\n",
       "    <tr>\n",
       "      <th>1</th>\n",
       "      <td>55</td>\n",
       "      <td>1</td>\n",
       "      <td>4</td>\n",
       "      <td>158</td>\n",
       "      <td>217</td>\n",
       "      <td>0</td>\n",
       "      <td>0</td>\n",
       "      <td>110</td>\n",
       "      <td>1</td>\n",
       "      <td>2.5</td>\n",
       "      <td>2</td>\n",
       "      <td>?</td>\n",
       "      <td>?</td>\n",
       "      <td>1</td>\n",
       "    </tr>\n",
       "    <tr>\n",
       "      <th>2</th>\n",
       "      <td>54</td>\n",
       "      <td>0</td>\n",
       "      <td>3</td>\n",
       "      <td>135</td>\n",
       "      <td>304</td>\n",
       "      <td>1</td>\n",
       "      <td>0</td>\n",
       "      <td>170</td>\n",
       "      <td>0</td>\n",
       "      <td>0</td>\n",
       "      <td>1</td>\n",
       "      <td>0</td>\n",
       "      <td>3</td>\n",
       "      <td>0</td>\n",
       "    </tr>\n",
       "    <tr>\n",
       "      <th>3</th>\n",
       "      <td>48</td>\n",
       "      <td>0</td>\n",
       "      <td>3</td>\n",
       "      <td>120</td>\n",
       "      <td>195</td>\n",
       "      <td>0</td>\n",
       "      <td>0</td>\n",
       "      <td>125</td>\n",
       "      <td>0</td>\n",
       "      <td>0</td>\n",
       "      <td>?</td>\n",
       "      <td>?</td>\n",
       "      <td>?</td>\n",
       "      <td>0</td>\n",
       "    </tr>\n",
       "    <tr>\n",
       "      <th>4</th>\n",
       "      <td>50</td>\n",
       "      <td>1</td>\n",
       "      <td>4</td>\n",
       "      <td>120</td>\n",
       "      <td>0</td>\n",
       "      <td>0</td>\n",
       "      <td>1</td>\n",
       "      <td>156</td>\n",
       "      <td>1</td>\n",
       "      <td>0</td>\n",
       "      <td>1</td>\n",
       "      <td>?</td>\n",
       "      <td>6</td>\n",
       "      <td>3</td>\n",
       "    </tr>\n",
       "  </tbody>\n",
       "</table>\n",
       "</div>"
      ],
      "text/plain": [
       "   Column1  Column2  Column3 Column4 Column5 Column6 Column7 Column8 Column9  \\\n",
       "0       54        1        4     125     216       0       0     140       0   \n",
       "1       55        1        4     158     217       0       0     110       1   \n",
       "2       54        0        3     135     304       1       0     170       0   \n",
       "3       48        0        3     120     195       0       0     125       0   \n",
       "4       50        1        4     120       0       0       1     156       1   \n",
       "\n",
       "  Column10 Column11 Column12 Column13  Column14  \n",
       "0        0        ?        ?        ?         1  \n",
       "1      2.5        2        ?        ?         1  \n",
       "2        0        1        0        3         0  \n",
       "3        0        ?        ?        ?         0  \n",
       "4        0        1        ?        6         3  "
      ]
     },
     "execution_count": 105,
     "metadata": {},
     "output_type": "execute_result"
    }
   ],
   "source": [
    "heart_train = pd.read_csv(\"/home/samiulengineer/Desktop/sami/data/heart_train.csv\")\n",
    "heart_train.head()"
   ]
  },
  {
   "cell_type": "markdown",
   "metadata": {},
   "source": [
    "### **Changing Data Types**\n",
    "\n",
    "Change all data types and convert all '?' values to Nan values"
   ]
  },
  {
   "cell_type": "code",
   "execution_count": 106,
   "metadata": {},
   "outputs": [],
   "source": [
    "heart_train['Column4'] = pd.to_numeric(heart_train['Column4'], errors = 'coerce')\n",
    "heart_train['Column5'] = pd.to_numeric(heart_train['Column5'], errors = 'coerce')\n",
    "heart_train['Column6'] = pd.to_numeric(heart_train['Column6'], errors = 'coerce')\n",
    "heart_train['Column7'] = pd.to_numeric(heart_train['Column7'], errors = 'coerce')\n",
    "heart_train['Column8'] = pd.to_numeric(heart_train['Column8'], errors = 'coerce')\n",
    "heart_train['Column9'] = pd.to_numeric(heart_train['Column9'], errors = 'coerce')\n",
    "heart_train['Column10'] = pd.to_numeric(heart_train['Column10'], errors = 'coerce')\n",
    "heart_train['Column11'] = pd.to_numeric(heart_train['Column11'], errors = 'coerce')\n",
    "heart_train['Column12'] = pd.to_numeric(heart_train['Column12'], errors = 'coerce')\n",
    "heart_train['Column13'] = pd.to_numeric(heart_train['Column13'], errors = 'coerce')"
   ]
  },
  {
   "cell_type": "markdown",
   "metadata": {},
   "source": [
    "### **Changing Attributes Name**"
   ]
  },
  {
   "cell_type": "code",
   "execution_count": 107,
   "metadata": {},
   "outputs": [
    {
     "data": {
      "text/html": [
       "<div>\n",
       "<style scoped>\n",
       "    .dataframe tbody tr th:only-of-type {\n",
       "        vertical-align: middle;\n",
       "    }\n",
       "\n",
       "    .dataframe tbody tr th {\n",
       "        vertical-align: top;\n",
       "    }\n",
       "\n",
       "    .dataframe thead th {\n",
       "        text-align: right;\n",
       "    }\n",
       "</style>\n",
       "<table border=\"1\" class=\"dataframe\">\n",
       "  <thead>\n",
       "    <tr style=\"text-align: right;\">\n",
       "      <th></th>\n",
       "      <th>age</th>\n",
       "      <th>sex</th>\n",
       "      <th>chest_pain_type</th>\n",
       "      <th>resting_bp</th>\n",
       "      <th>ser_chol</th>\n",
       "      <th>fast_glucose</th>\n",
       "      <th>rest_ecg</th>\n",
       "      <th>heart_rate</th>\n",
       "      <th>exc_angina</th>\n",
       "      <th>depression</th>\n",
       "      <th>peak_exc</th>\n",
       "      <th>maj_vessels</th>\n",
       "      <th>thal</th>\n",
       "      <th>angiographic_disease</th>\n",
       "    </tr>\n",
       "  </thead>\n",
       "  <tbody>\n",
       "    <tr>\n",
       "      <th>0</th>\n",
       "      <td>54</td>\n",
       "      <td>1</td>\n",
       "      <td>4</td>\n",
       "      <td>125.0</td>\n",
       "      <td>216.0</td>\n",
       "      <td>0.0</td>\n",
       "      <td>0.0</td>\n",
       "      <td>140.0</td>\n",
       "      <td>0.0</td>\n",
       "      <td>0.0</td>\n",
       "      <td>NaN</td>\n",
       "      <td>NaN</td>\n",
       "      <td>NaN</td>\n",
       "      <td>1</td>\n",
       "    </tr>\n",
       "    <tr>\n",
       "      <th>1</th>\n",
       "      <td>55</td>\n",
       "      <td>1</td>\n",
       "      <td>4</td>\n",
       "      <td>158.0</td>\n",
       "      <td>217.0</td>\n",
       "      <td>0.0</td>\n",
       "      <td>0.0</td>\n",
       "      <td>110.0</td>\n",
       "      <td>1.0</td>\n",
       "      <td>2.5</td>\n",
       "      <td>2.0</td>\n",
       "      <td>NaN</td>\n",
       "      <td>NaN</td>\n",
       "      <td>1</td>\n",
       "    </tr>\n",
       "    <tr>\n",
       "      <th>2</th>\n",
       "      <td>54</td>\n",
       "      <td>0</td>\n",
       "      <td>3</td>\n",
       "      <td>135.0</td>\n",
       "      <td>304.0</td>\n",
       "      <td>1.0</td>\n",
       "      <td>0.0</td>\n",
       "      <td>170.0</td>\n",
       "      <td>0.0</td>\n",
       "      <td>0.0</td>\n",
       "      <td>1.0</td>\n",
       "      <td>0.0</td>\n",
       "      <td>3.0</td>\n",
       "      <td>0</td>\n",
       "    </tr>\n",
       "    <tr>\n",
       "      <th>3</th>\n",
       "      <td>48</td>\n",
       "      <td>0</td>\n",
       "      <td>3</td>\n",
       "      <td>120.0</td>\n",
       "      <td>195.0</td>\n",
       "      <td>0.0</td>\n",
       "      <td>0.0</td>\n",
       "      <td>125.0</td>\n",
       "      <td>0.0</td>\n",
       "      <td>0.0</td>\n",
       "      <td>NaN</td>\n",
       "      <td>NaN</td>\n",
       "      <td>NaN</td>\n",
       "      <td>0</td>\n",
       "    </tr>\n",
       "    <tr>\n",
       "      <th>4</th>\n",
       "      <td>50</td>\n",
       "      <td>1</td>\n",
       "      <td>4</td>\n",
       "      <td>120.0</td>\n",
       "      <td>0.0</td>\n",
       "      <td>0.0</td>\n",
       "      <td>1.0</td>\n",
       "      <td>156.0</td>\n",
       "      <td>1.0</td>\n",
       "      <td>0.0</td>\n",
       "      <td>1.0</td>\n",
       "      <td>NaN</td>\n",
       "      <td>6.0</td>\n",
       "      <td>3</td>\n",
       "    </tr>\n",
       "  </tbody>\n",
       "</table>\n",
       "</div>"
      ],
      "text/plain": [
       "   age  sex  chest_pain_type  resting_bp  ser_chol  fast_glucose  rest_ecg  \\\n",
       "0   54    1                4       125.0     216.0           0.0       0.0   \n",
       "1   55    1                4       158.0     217.0           0.0       0.0   \n",
       "2   54    0                3       135.0     304.0           1.0       0.0   \n",
       "3   48    0                3       120.0     195.0           0.0       0.0   \n",
       "4   50    1                4       120.0       0.0           0.0       1.0   \n",
       "\n",
       "   heart_rate  exc_angina  depression  peak_exc  maj_vessels  thal  \\\n",
       "0       140.0         0.0         0.0       NaN          NaN   NaN   \n",
       "1       110.0         1.0         2.5       2.0          NaN   NaN   \n",
       "2       170.0         0.0         0.0       1.0          0.0   3.0   \n",
       "3       125.0         0.0         0.0       NaN          NaN   NaN   \n",
       "4       156.0         1.0         0.0       1.0          NaN   6.0   \n",
       "\n",
       "   angiographic_disease  \n",
       "0                     1  \n",
       "1                     1  \n",
       "2                     0  \n",
       "3                     0  \n",
       "4                     3  "
      ]
     },
     "execution_count": 107,
     "metadata": {},
     "output_type": "execute_result"
    }
   ],
   "source": [
    "heart_train.rename(columns={'Column1' : 'age', 'Column2' : 'sex', 'Column3' : 'chest_pain_type', 'Column4' : 'resting_bp', \n",
    "                           'Column5' : 'ser_chol', 'Column6' : 'fast_glucose', 'Column7' : 'rest_ecg', 'Column8' : 'heart_rate', \n",
    "                           'Column9' : 'exc_angina', 'Column10' : 'depression', 'Column11' : 'peak_exc', 'Column12' : 'maj_vessels',\n",
    "                           'Column13' : 'thal', 'Column14' : 'angiographic_disease'}, inplace = True)\n",
    "heart_train.head()"
   ]
  },
  {
   "cell_type": "markdown",
   "metadata": {},
   "source": [
    "## **Dropout Attributes**"
   ]
  },
  {
   "cell_type": "markdown",
   "metadata": {},
   "source": [
    "There are many missing values specially in **peak_exc, maj_vessels, thal** attributes. These three attributes will not give any meaningful model"
   ]
  },
  {
   "cell_type": "code",
   "execution_count": 108,
   "metadata": {},
   "outputs": [],
   "source": [
    "heart_train = heart_train.fillna(heart_train.mean())"
   ]
  },
  {
   "cell_type": "markdown",
   "metadata": {},
   "source": [
    "### **Changing Class Attributes**\n",
    "\n",
    "angiographic_disease has 5 types of values (0 = No, 1,2,3,4 = Yes)<br>\n",
    "Change all 1,2,3,4 values to 1 (1 = yes)"
   ]
  },
  {
   "cell_type": "code",
   "execution_count": 109,
   "metadata": {},
   "outputs": [],
   "source": [
    "heart_train['angiographic_disease'] = (heart_train['angiographic_disease'] >= 1).astype(int)"
   ]
  },
  {
   "cell_type": "markdown",
   "metadata": {},
   "source": [
    "### **Changing Data Types to Integer**"
   ]
  },
  {
   "cell_type": "code",
   "execution_count": 110,
   "metadata": {},
   "outputs": [],
   "source": [
    "heart_train = heart_train.astype(int)"
   ]
  },
  {
   "cell_type": "markdown",
   "metadata": {},
   "source": [
    "### **Implementing Random Forrest and Fit the Model**\n",
    "\n",
    ">***Training Set = 75%<br>\n",
    "Test Set = 25%***"
   ]
  },
  {
   "cell_type": "code",
   "execution_count": 111,
   "metadata": {},
   "outputs": [],
   "source": [
    "from sklearn.model_selection import train_test_split\n",
    "\n",
    "x = heart_train.iloc[:,:-1]\n",
    "y = heart_train.iloc[:,-1]\n",
    "\n",
    "# train_test_split will return the 4 array\n",
    "x_train, x_test, y_train, y_test = train_test_split(x, y, test_size = 0.25, random_state = 3)"
   ]
  },
  {
   "cell_type": "markdown",
   "metadata": {},
   "source": [
    "### **Fit Random Forest Model**"
   ]
  },
  {
   "cell_type": "code",
   "execution_count": 112,
   "metadata": {},
   "outputs": [
    {
     "data": {
      "text/plain": [
       "RandomForestClassifier(bootstrap=True, class_weight=None, criterion='gini',\n",
       "            max_depth=15, max_features='auto', max_leaf_nodes=None,\n",
       "            min_impurity_decrease=0.0, min_impurity_split=None,\n",
       "            min_samples_leaf=1, min_samples_split=2,\n",
       "            min_weight_fraction_leaf=0.0, n_estimators=100, n_jobs=None,\n",
       "            oob_score=False, random_state=None, verbose=0,\n",
       "            warm_start=False)"
      ]
     },
     "execution_count": 112,
     "metadata": {},
     "output_type": "execute_result"
    }
   ],
   "source": [
    "# random forest regressor is used to find out the mean value close to class label\n",
    "# from sklearn.ensemble import RandomForestRegressor\n",
    "\n",
    "from sklearn.ensemble import RandomForestClassifier\n",
    "\n",
    "rf = RandomForestClassifier(n_estimators = 100, max_depth = 15)\n",
    "\n",
    "rf.fit(x_train, y_train)"
   ]
  },
  {
   "cell_type": "markdown",
   "metadata": {},
   "source": [
    "### **Model Accuracy**"
   ]
  },
  {
   "cell_type": "code",
   "execution_count": 113,
   "metadata": {},
   "outputs": [
    {
     "name": "stdout",
     "output_type": "stream",
     "text": [
      "Accuracy of Random Forest classifier on test set is: 79.0%\n"
     ]
    }
   ],
   "source": [
    "import sklearn\n",
    "from sklearn import metrics\n",
    "from sklearn.metrics import roc_curve\n",
    "\n",
    "# predict disease from x_test set\n",
    "y_pred = rf.predict(x_test)\n",
    "\n",
    "accuracy = sklearn.metrics.accuracy_score(y_test,y_pred)\n",
    "\n",
    "print('Accuracy of Random Forest classifier on test set is: {}%'.format(round(accuracy,2)*100))"
   ]
  },
  {
   "cell_type": "code",
   "execution_count": 114,
   "metadata": {},
   "outputs": [],
   "source": [
    "# from sklearn.metrics import auc\n",
    "\n",
    "# n_estimators = [1, 2, 4, 8, 16, 32, 64, 100, 200]\n",
    "# train_results = []\n",
    "# test_results = []\n",
    "\n",
    "# for estimator in n_estimators:\n",
    "#    rf = RandomForestClassifier(n_estimators = estimator, n_jobs = -1)\n",
    "#    rf.fit(x_train, y_train)\n",
    "    \n",
    "#    train_pred = rf.predict(x_train)\n",
    "#    false_positive_rate, true_positive_rate, thresholds = roc_curve(y_train, train_pred)\n",
    "    \n",
    "#    roc_auc = auc(false_positive_rate, true_positive_rate)\n",
    "#    train_results.append(roc_auc)\n",
    "    \n",
    "#    y_pred = rf.predict(x_test)\n",
    "#    false_positive_rate, true_positive_rate, thresholds = roc_curve(y_test, y_pred)\n",
    "    \n",
    "#    roc_auc = auc(false_positive_rate, true_positive_rate)\n",
    "#    test_results.append(roc_auc)\n",
    "    \n",
    "# from matplotlib.legend_handler import HandlerLine2D\n",
    "\n",
    "# line1, = matplt.plot(n_estimators, train_results, 'b', label = \"Train AUC\")\n",
    "# line2, = matplt.plot(n_estimators, test_results, 'r', label = \"Test AUC\")\n",
    "\n",
    "# matplt.legend(handler_map = {line1: HandlerLine2D(numpoints = 2)})\n",
    "# matplt.ylabel(\"AUC score\")\n",
    "# matplt.xlabel(\"n_estimators\")\n",
    "# matplt.grid()\n",
    "\n",
    "# matplt.show()"
   ]
  },
  {
   "cell_type": "code",
   "execution_count": 115,
   "metadata": {},
   "outputs": [],
   "source": [
    "# from sklearn.metrics import auc\n",
    "\n",
    "# max_depths = np.linspace(1, 32, 32, endpoint = True)\n",
    "# train_results = []\n",
    "# test_results = []\n",
    "\n",
    "# for max_depth in max_depths:\n",
    "#    rf = RandomForestClassifier(max_depth = max_depth, n_jobs = -1)\n",
    "#    rf.fit(x_train, y_train)\n",
    "    \n",
    "#    train_pred = rf.predict(x_train)\n",
    "#    false_positive_rate, true_positive_rate, thresholds = roc_curve(y_train, train_pred)\n",
    "    \n",
    "#    roc_auc = auc(false_positive_rate, true_positive_rate)\n",
    "#    train_results.append(roc_auc)\n",
    "    \n",
    "#    y_pred = rf.predict(x_test)\n",
    "#    false_positive_rate, true_positive_rate, thresholds = roc_curve(y_test, y_pred)\n",
    "    \n",
    "#    roc_auc = auc(false_positive_rate, true_positive_rate)\n",
    "#    test_results.append(roc_auc)\n",
    "    \n",
    "# from matplotlib.legend_handler import HandlerLine2D\n",
    "\n",
    "# line1, = matplt.plot(max_depths, train_results, 'b', label = \"Train AUC\")\n",
    "# line2, = matplt.plot(max_depths, test_results, 'r', label = \"Test AUC\")\n",
    "\n",
    "# matplt.legend(handler_map = {line1: HandlerLine2D(numpoints = 2)})\n",
    "# matplt.ylabel(\"AUC score\")\n",
    "# matplt.xlabel(\"max_depth\")\n",
    "# matplt.grid()\n",
    "\n",
    "# matplt.show()"
   ]
  },
  {
   "cell_type": "code",
   "execution_count": 116,
   "metadata": {},
   "outputs": [],
   "source": [
    "# from sklearn.metrics import auc\n",
    "\n",
    "# min_samples_splits = np.linspace(0.1, 1.0, 10, endpoint = True)\n",
    "# train_results = []\n",
    "# test_results = []\n",
    "\n",
    "# for min_samples_split in min_samples_splits:\n",
    "#    rf = RandomForestClassifier(min_samples_split = min_samples_split, n_jobs = -1)\n",
    "#    rf.fit(x_train, y_train)\n",
    "    \n",
    "#    train_pred = rf.predict(x_train)\n",
    "#    false_positive_rate, true_positive_rate, thresholds = roc_curve(y_train, train_pred)\n",
    "    \n",
    "#    roc_auc = auc(false_positive_rate, true_positive_rate)\n",
    "#    train_results.append(roc_auc)\n",
    "    \n",
    "#    y_pred = rf.predict(x_test)\n",
    "#    false_positive_rate, true_positive_rate, thresholds = roc_curve(y_test, y_pred)\n",
    "    \n",
    "#    roc_auc = auc(false_positive_rate, true_positive_rate)\n",
    "#    test_results.append(roc_auc)\n",
    "    \n",
    "# from matplotlib.legend_handler import HandlerLine2D\n",
    "\n",
    "# line1, = matplt.plot(min_samples_splits, train_results, 'b', label = \"Train AUC\")\n",
    "# line2, = matplt.plot(min_samples_splits, test_results, 'r', label = \"Test AUC\")\n",
    "\n",
    "# matplt.legend(handler_map = {line1: HandlerLine2D(numpoints = 2)})\n",
    "# matplt.ylabel(\"AUC score\")\n",
    "# matplt.xlabel(\"min_samples_split\")\n",
    "# matplt.grid()\n",
    "\n",
    "# matplt.show()"
   ]
  },
  {
   "cell_type": "code",
   "execution_count": 117,
   "metadata": {},
   "outputs": [],
   "source": [
    "# from sklearn.metrics import auc\n",
    "\n",
    "# min_samples_leafs = np.linspace(0.1, 0.5, 5, endpoint=True)\n",
    "# train_results = []\n",
    "# test_results = []\n",
    "\n",
    "# for min_samples_leaf in min_samples_leafs:\n",
    "#    rf = RandomForestClassifier(min_samples_leaf = min_samples_leaf, n_jobs = -1)\n",
    "#    rf.fit(x_train, y_train)\n",
    "    \n",
    "#    train_pred = rf.predict(x_train)\n",
    "#    false_positive_rate, true_positive_rate, thresholds = roc_curve(y_train, train_pred)\n",
    "    \n",
    "#    roc_auc = auc(false_positive_rate, true_positive_rate)\n",
    "#    train_results.append(roc_auc)\n",
    "    \n",
    "#    y_pred = rf.predict(x_test)\n",
    "#    false_positive_rate, true_positive_rate, thresholds = roc_curve(y_test, y_pred)\n",
    "    \n",
    "#    roc_auc = auc(false_positive_rate, true_positive_rate)\n",
    "#    test_results.append(roc_auc)\n",
    "    \n",
    "# from matplotlib.legend_handler import HandlerLine2D\n",
    "\n",
    "# line1, = matplt.plot(min_samples_leafs, train_results, 'b', label = \"Train AUC\")\n",
    "# line2, = matplt.plot(min_samples_leafs, test_results, 'r', label = \"Test AUC\")\n",
    "\n",
    "# matplt.legend(handler_map = {line1: HandlerLine2D(numpoints = 2)})\n",
    "# matplt.ylabel(\"AUC score\")\n",
    "# matplt.xlabel(\"min_samples_leaf\")\n",
    "# matplt.grid()\n",
    "\n",
    "# matplt.show()"
   ]
  },
  {
   "cell_type": "markdown",
   "metadata": {},
   "source": [
    "### **Total Number of 1 (yes) and 0 (no) Predictions**"
   ]
  },
  {
   "cell_type": "code",
   "execution_count": 118,
   "metadata": {},
   "outputs": [
    {
     "data": {
      "text/plain": [
       "(array([0, 1]), array([ 79, 116]))"
      ]
     },
     "execution_count": 118,
     "metadata": {},
     "output_type": "execute_result"
    }
   ],
   "source": [
    "y_pred_count = np.unique(y_pred, return_counts = True)\n",
    "y_pred_count"
   ]
  },
  {
   "cell_type": "markdown",
   "metadata": {},
   "source": [
    "Here model predicted in the test dataset (splitted from training dataset) 76 instaces have no angiographic disease, whereas 82 instances have it. "
   ]
  },
  {
   "cell_type": "markdown",
   "metadata": {},
   "source": [
    "### **Confusion Matrix**"
   ]
  },
  {
   "cell_type": "code",
   "execution_count": 119,
   "metadata": {},
   "outputs": [
    {
     "data": {
      "image/png": "[encoded data removed]",
      "text/plain": [
       "<Figure size 432x288 with 2 Axes>"
      ]
     },
     "metadata": {
      "needs_background": "light"
     },
     "output_type": "display_data"
    }
   ],
   "source": [
    "from sklearn.metrics import confusion_matrix\n",
    "\n",
    "cfmx = confusion_matrix(y_test, y_pred)\n",
    "conf_matrix = pd.DataFrame(data = cfmx, columns = ['Predicted: 0', 'Predicted: 1'], index = ['Actual: 0', 'Actual: 1'])\n",
    "\n",
    "fig = sb.heatmap(data = conf_matrix, annot = True, fmt = 'd', cmap = \"YlGnBu\", square = True)\n",
    "fig.set_title('Confusion Matrix by RF')\n",
    "\n",
    "fig.get_figure().savefig('/home/samiulengineer/Desktop/sami/result_image/conf_matrix_rf.png')"
   ]
  },
  {
   "cell_type": "markdown",
   "metadata": {},
   "source": [
    "### **Correct & Incorrect Prediction**"
   ]
  },
  {
   "cell_type": "code",
   "execution_count": 120,
   "metadata": {},
   "outputs": [
    {
     "name": "stdout",
     "output_type": "stream",
     "text": [
      "The confusion matrix shows 155 correct predictions and 40 incorrect predictions\n"
     ]
    }
   ],
   "source": [
    "TN = cfmx[0,0]\n",
    "TP = cfmx[1,1]\n",
    "FN = cfmx[1,0]\n",
    "FP = cfmx[0,1]\n",
    "\n",
    "print(\"The confusion matrix shows %i correct predictions and %i incorrect predictions\" % ((TN + TP), (FN + FP)))"
   ]
  },
  {
   "cell_type": "markdown",
   "metadata": {},
   "source": [
    "### ***Specificity***"
   ]
  },
  {
   "cell_type": "code",
   "execution_count": 124,
   "metadata": {},
   "outputs": [
    {
     "data": {
      "text/plain": [
       "0.7349397590361446"
      ]
     },
     "execution_count": 124,
     "metadata": {},
     "output_type": "execute_result"
    }
   ],
   "source": [
    "specificity = TN/(TN+FP)\n",
    "specificity"
   ]
  },
  {
   "cell_type": "markdown",
   "metadata": {},
   "source": [
    "### **Classification Report**"
   ]
  },
  {
   "cell_type": "code",
   "execution_count": 121,
   "metadata": {},
   "outputs": [
    {
     "name": "stdout",
     "output_type": "stream",
     "text": [
      "              precision    recall  f1-score   support\n",
      "\n",
      "           0       0.77      0.73      0.75        83\n",
      "           1       0.81      0.84      0.82       112\n",
      "\n",
      "   micro avg       0.79      0.79      0.79       195\n",
      "   macro avg       0.79      0.79      0.79       195\n",
      "weighted avg       0.79      0.79      0.79       195\n",
      "\n"
     ]
    }
   ],
   "source": [
    "from sklearn.metrics import classification_report\n",
    "\n",
    "print(classification_report(y_test, y_pred))"
   ]
  },
  {
   "cell_type": "markdown",
   "metadata": {},
   "source": [
    "f1-score for 0 and 1 both cases are almost 0.80 which is impressive and a good indication of good model"
   ]
  },
  {
   "cell_type": "markdown",
   "metadata": {},
   "source": [
    "### **ROC Curve Coverage Area**"
   ]
  },
  {
   "cell_type": "code",
   "execution_count": 122,
   "metadata": {},
   "outputs": [
    {
     "name": "stdout",
     "output_type": "stream",
     "text": [
      "ROC Curve Covers almost 86% Area\n"
     ]
    }
   ],
   "source": [
    "roc_auc_score = sklearn.metrics.roc_auc_score(y_test,rf.predict_proba(x_test)[:,1])\n",
    "\n",
    "if roc_auc_score >= 0.70:\n",
    "    print(\"ROC Curve Covers almost %i%% Area\" % (round(roc_auc_score, 2)*100))\n",
    "else:\n",
    "     print(\"ROC Curve Covers almost %i%% Area Which is not Satisfactory\" % (round(roc_auc_score, 2)*100))  "
   ]
  },
  {
   "cell_type": "markdown",
   "metadata": {},
   "source": [
    "### **ROC Curve**"
   ]
  },
  {
   "cell_type": "code",
   "execution_count": 123,
   "metadata": {},
   "outputs": [
    {
     "data": {
      "image/png": "[encoded data removed]",
      "text/plain": [
       "<Figure size 432x288 with 1 Axes>"
      ]
     },
     "metadata": {
      "needs_background": "light"
     },
     "output_type": "display_data"
    }
   ],
   "source": [
    "from sklearn.metrics import roc_curve\n",
    "\n",
    "fpr, tpr, thresholds = roc_curve(y_test, rf.predict_proba(x_test)[:,1])\n",
    "\n",
    "matplt.plot(fpr,tpr)\n",
    "matplt.xlim([0.0, 1.0])\n",
    "matplt.ylim([0.0, 1.0])\n",
    "matplt.plot([0, 1], [0, 1], 'r--')\n",
    "matplt.title('ROC curve for Heart disease classifier by RF')\n",
    "matplt.xlabel('False positive rate (1-Specificity)')\n",
    "matplt.ylabel('True positive rate (Sensitivity)')\n",
    "matplt.grid(True)\n",
    "matplt.text(0.95, 0.01, \"ROC Curve Covers %i%% Area\" % (round(roc_auc_score, 2)*100), verticalalignment='bottom', horizontalalignment = 'right', fontsize = 14)\n",
    "\n",
    "matplt.savefig('/home/samiulengineer/Desktop/sami/result_image/roc_curve_rf.png')"
   ]
  },
  {
   "cell_type": "markdown",
   "metadata": {},
   "source": [
    "Red dot line is the essential factor. ROC curve must be to the upper left corner and make a good distance with red dotted line to make a perfect model.\n",
    "In this case ROC curve is in almost perfect condition."
   ]
  },
  {
   "cell_type": "markdown",
   "metadata": {},
   "source": [
    "### ***MCC***"
   ]
  },
  {
   "cell_type": "code",
   "execution_count": 125,
   "metadata": {},
   "outputs": [
    {
     "data": {
      "text/plain": [
       "0.5783463135352"
      ]
     },
     "execution_count": 125,
     "metadata": {},
     "output_type": "execute_result"
    }
   ],
   "source": [
    "from sklearn.metrics import matthews_corrcoef\n",
    "\n",
    "matthews_corrcoef(y_test, y_pred)"
   ]
  },
  {
   "cell_type": "code",
   "execution_count": null,
   "metadata": {},
   "outputs": [],
   "source": []
  },
  {
   "cell_type": "code",
   "execution_count": null,
   "metadata": {},
   "outputs": [],
   "source": []
  },
  {
   "cell_type": "code",
   "execution_count": null,
   "metadata": {},
   "outputs": [],
   "source": []
  },
  {
   "cell_type": "code",
   "execution_count": null,
   "metadata": {},
   "outputs": [],
   "source": []
  },
  {
   "cell_type": "code",
   "execution_count": null,
   "metadata": {},
   "outputs": [],
   "source": []
  },
  {
   "cell_type": "code",
   "execution_count": null,
   "metadata": {},
   "outputs": [],
   "source": []
  },
  {
   "cell_type": "code",
   "execution_count": null,
   "metadata": {},
   "outputs": [],
   "source": []
  },
  {
   "cell_type": "code",
   "execution_count": null,
   "metadata": {},
   "outputs": [],
   "source": []
  },
  {
   "cell_type": "code",
   "execution_count": null,
   "metadata": {},
   "outputs": [],
   "source": []
  },
  {
   "cell_type": "code",
   "execution_count": null,
   "metadata": {},
   "outputs": [],
   "source": []
  },
  {
   "cell_type": "code",
   "execution_count": null,
   "metadata": {},
   "outputs": [],
   "source": []
  },
  {
   "cell_type": "code",
   "execution_count": null,
   "metadata": {},
   "outputs": [],
   "source": []
  }
 ],
 "metadata": {
  "kernelspec": {
   "display_name": "Python 3",
   "language": "python",
   "name": "python3"
  },
  "language_info": {
   "codemirror_mode": {
    "name": "ipython",
    "version": 3
   },
   "file_extension": ".py",
   "mimetype": "text/x-python",
   "name": "python",
   "nbconvert_exporter": "python",
   "pygments_lexer": "ipython3",
   "version": "3.6.8"
  }
 },
 "nbformat": 4,
 "nbformat_minor": 2
}
